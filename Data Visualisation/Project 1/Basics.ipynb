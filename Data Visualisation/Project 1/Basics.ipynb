{
 "cells": [
  {
   "cell_type": "code",
   "execution_count": null,
   "metadata": {
    "collapsed": true
   },
   "outputs": [],
   "source": [
    "\n",
    "import pandas as pd\n",
    "import matplotlib.pyplot as plt\n",
    "% matplotlib inline\n",
    "recent_grads = pd.read_csv('recent-grads.csv')\n",
    "print(recent_grads.iloc[0])\n",
    "print(recent_grads.head())\n",
    "print(recent_grads.tail())\n",
    "recent_grads = recent_grads.dropna()\n",
    "recent_grads.plot(x='Sample_size', y='Median', kind='scatter')\n",
    "recent_grads.plot(x='Sample_size', y='Unemployment_rate', kind='scatter')\n",
    "recent_grads.plot(x='Full_time', y='Median', kind='scatter')\n",
    "recent_grads.plot(x='ShareWomen', y='Unemployment_rate', kind='scatter')\n",
    "recent_grads.plot(x='Men', y='Median', kind='scatter')\n",
    "recent_grads.plot(x='Women', y='Median', kind='scatter')\n",
    "cols = [\"Sample_size\", \"Median\", \"Employed\", \"Full_time\", \"ShareWomen\", \"Unemployment_rate\", \"Men\", \"Women\"]\n",
    "\n",
    "fig = plt.figure(figsize=(5,12))\n",
    "for r in range(1,5):\n",
    "    ax = fig.add_subplot(4,1,r)\n",
    "    ax = recent_grads[cols[r]].plot(kind='hist', rot=40)\n",
    "    cols = [\"Sample_size\", \"Median\", \"Employed\", \"Full_time\", \"ShareWomen\", \"Unemployment_rate\", \"Men\", \"Women\"]\n",
    "\n",
    "fig = plt.figure(figsize=(5,12))\n",
    "for r in range(4,8):\n",
    "    ax = fig.add_subplot(4,1,r-3)\n",
    "    ax = recent_grads[cols[r]].plot(kind='hist', rot=40)\n",
    "    from pandas.plotting import scatter_matrix\n",
    "scatter_matrix(recent_grads[['Sample_size', 'Median']], figsize=(6,6))\n",
    "scatter_matrix(recent_grads[['Sample_size', 'Median', 'Unemployment_rate']], figsize=(10,10))\n",
    "\n",
    "recent_grads[:10].plot.bar(x='Major', y='ShareWomen', legend=False)\n",
    "recent_grads[163:].plot.bar(x='Major', y='ShareWomen', legend=False)\n"
   ]
  }
 ],
 "metadata": {
  "kernelspec": {
   "display_name": "Python 3",
   "language": "python",
   "name": "python3"
  },
  "language_info": {
   "codemirror_mode": {
    "name": "ipython",
    "version": 3
   },
   "file_extension": ".py",
   "mimetype": "text/x-python",
   "name": "python",
   "nbconvert_exporter": "python",
   "pygments_lexer": "ipython3",
   "version": "3.4.3"
  }
 },
 "nbformat": 4,
 "nbformat_minor": 0
}
